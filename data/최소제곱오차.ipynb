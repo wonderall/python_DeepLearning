{
  "nbformat": 4,
  "nbformat_minor": 0,
  "metadata": {
    "colab": {
      "provenance": []
    },
    "kernelspec": {
      "name": "python3",
      "display_name": "Python 3"
    },
    "language_info": {
      "name": "python"
    }
  },
  "cells": [
    {
      "cell_type": "markdown",
      "source": [
        "파이썬 코딩으로 확인하는 최소 제곱\n"
      ],
      "metadata": {
        "id": "cGAvwjfAqQKs"
      }
    },
    {
      "cell_type": "code",
      "source": [
        "import numpy as np"
      ],
      "metadata": {
        "id": "DBqHWnIRqWzD"
      },
      "execution_count": 1,
      "outputs": []
    },
    {
      "cell_type": "code",
      "source": [
        "x =np.array([2,4,6,8])\n",
        "y= np.array([81,93, 91,97])\n"
      ],
      "metadata": {
        "id": "qtm9r85Zs-_S"
      },
      "execution_count": 2,
      "outputs": []
    },
    {
      "cell_type": "code",
      "source": [
        "mx = np.mean(x)\n",
        "my = np.mean(y)\n",
        "print(\"x의 평균값:\",mx)\n",
        "print(\"y의 평균값:\",my)"
      ],
      "metadata": {
        "colab": {
          "base_uri": "https://localhost:8080/"
        },
        "id": "y-GaevAOtKsp",
        "outputId": "4fdcc9ca-d70f-4a94-d177-a65471264b85"
      },
      "execution_count": 4,
      "outputs": [
        {
          "output_type": "stream",
          "name": "stdout",
          "text": [
            "x의 평균값: 5.0\n",
            "y의 평균값: 90.5\n"
          ]
        }
      ]
    },
    {
      "cell_type": "code",
      "source": [
        "divisor =sum([(i -mx)**2 for i in x])\n",
        "\n",
        "def top(x, mx, y,my):\n",
        "  d= 0\n",
        "  for i in range(len(x)):\n",
        "    d += (x[i] - mx) * ( y[i] -my)\n",
        "  return d\n",
        "dividend = top(x,mx, y,my)\n",
        "\n",
        "print(\"분모:\", divisor)\n",
        "print(\"분자:\", dividend)\n"
      ],
      "metadata": {
        "colab": {
          "base_uri": "https://localhost:8080/"
        },
        "id": "vjlRXNvktfJ4",
        "outputId": "e5462827-90cf-41cc-a89c-bc4f369b12e2"
      },
      "execution_count": 5,
      "outputs": [
        {
          "output_type": "stream",
          "name": "stdout",
          "text": [
            "분모: 20.0\n",
            "분자: 46.0\n"
          ]
        }
      ]
    },
    {
      "cell_type": "code",
      "source": [
        "#기울기 a 를 구하는 식\n",
        "a = dividend/divisor\n",
        "\n",
        "#y절편 b를 구하는 식\n",
        "b = my - (mx*a)\n",
        "\n",
        "print(\"기울기 a=\", a)\n",
        "print(\"y절편 b=\", b)"
      ],
      "metadata": {
        "colab": {
          "base_uri": "https://localhost:8080/"
        },
        "id": "TrA1HOZBuZRI",
        "outputId": "b76767a5-09f3-4ff1-865d-76fd7a2a9312"
      },
      "execution_count": 6,
      "outputs": [
        {
          "output_type": "stream",
          "name": "stdout",
          "text": [
            "기울기 a= 2.3\n",
            "y절편 b= 79.0\n"
          ]
        }
      ]
    },
    {
      "cell_type": "code",
      "source": [
        "#평균 제곱 오차 구하기"
      ],
      "metadata": {
        "id": "cxXG-aftvLy3"
      },
      "execution_count": null,
      "outputs": []
    },
    {
      "cell_type": "code",
      "source": [
        "fake_a = 3 #기울기\n",
        "fake_b = 76 #절편\n",
        "\n",
        "x =np.array([2,4,6,8])\n",
        "y= np.array([81,93, 91,97])"
      ],
      "metadata": {
        "id": "GkPoIumDu9Qo"
      },
      "execution_count": 7,
      "outputs": []
    },
    {
      "cell_type": "code",
      "source": [
        "def predict(x):\n",
        "  return fake_a *x + fake_b\n",
        "\n",
        "predict_result =[]\n",
        "\n",
        "for i in range(len(x)):\n",
        "  predict_result.append(predict(x[i]))\n",
        "  print(\"공부시간 = %.f, 실제점수 =%.f, 예측점수= %.f\" % (x[i], y[i], predict(x[i])))"
      ],
      "metadata": {
        "colab": {
          "base_uri": "https://localhost:8080/"
        },
        "id": "i0PRtSCZvS7v",
        "outputId": "0fc12a76-94e8-4d25-a41f-d54367da1326"
      },
      "execution_count": 8,
      "outputs": [
        {
          "output_type": "stream",
          "name": "stdout",
          "text": [
            "공부시간 = 2, 실제점수 =81, 예측점수= 82\n",
            "공부시간 = 4, 실제점수 =93, 예측점수= 88\n",
            "공부시간 = 6, 실제점수 =91, 예측점수= 94\n",
            "공부시간 = 8, 실제점수 =97, 예측점수= 100\n"
          ]
        }
      ]
    },
    {
      "cell_type": "code",
      "source": [
        "n = len(x)\n",
        "def mse(y, y_pred):\n",
        "  return (1/n)* sum((y-y_pred)**2)\n",
        "\n",
        "print(\"평균 제곱 오차 값:\" +str(mse(y,predict_result)))"
      ],
      "metadata": {
        "colab": {
          "base_uri": "https://localhost:8080/"
        },
        "id": "S1MWBfebwet3",
        "outputId": "62ef1dac-87e1-4cec-fbe5-184682a6df1f"
      },
      "execution_count": 9,
      "outputs": [
        {
          "output_type": "stream",
          "name": "stdout",
          "text": [
            "평균 제곱 오차 값:11.0\n"
          ]
        }
      ]
    }
  ]
}